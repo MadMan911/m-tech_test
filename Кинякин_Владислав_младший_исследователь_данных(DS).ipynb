{
 "cells": [
  {
   "cell_type": "markdown",
   "id": "3cbb6400",
   "metadata": {
    "toc": true
   },
   "source": [
    "<h1>Table of Contents<span class=\"tocSkip\"></span></h1>\n",
    "<div class=\"toc\"><ul class=\"toc-item\"><li><span><a href=\"#Произведем-необходимые-импорты\" data-toc-modified-id=\"Произведем-необходимые-импорты-1\"><span class=\"toc-item-num\">1&nbsp;&nbsp;</span>Произведем необходимые импорты</a></span></li><li><span><a href=\"#Изучим-данные\" data-toc-modified-id=\"Изучим-данные-2\"><span class=\"toc-item-num\">2&nbsp;&nbsp;</span>Изучим данные</a></span></li><li><span><a href=\"#Посмотрим-на-графики-распределений-данных\" data-toc-modified-id=\"Посмотрим-на-графики-распределений-данных-3\"><span class=\"toc-item-num\">3&nbsp;&nbsp;</span>Посмотрим на графики распределений данных</a></span></li><li><span><a href=\"#Приступим-к-исследованию-гипотез\" data-toc-modified-id=\"Приступим-к-исследованию-гипотез-4\"><span class=\"toc-item-num\">4&nbsp;&nbsp;</span>Приступим к исследованию гипотез</a></span><ul class=\"toc-item\"><li><span><a href=\"#Гипотеза-№1\" data-toc-modified-id=\"Гипотеза-№1-4.1\"><span class=\"toc-item-num\">4.1&nbsp;&nbsp;</span>Гипотеза №1</a></span></li><li><span><a href=\"#Гипотеза-№2\" data-toc-modified-id=\"Гипотеза-№2-4.2\"><span class=\"toc-item-num\">4.2&nbsp;&nbsp;</span>Гипотеза №2</a></span></li></ul></li><li><span><a href=\"#Подведем-итоги\" data-toc-modified-id=\"Подведем-итоги-5\"><span class=\"toc-item-num\">5&nbsp;&nbsp;</span>Подведем итоги</a></span></li></ul></div>"
   ]
  },
  {
   "cell_type": "markdown",
   "id": "a7966ca4",
   "metadata": {},
   "source": [
    "## Произведем необходимые импорты"
   ]
  },
  {
   "cell_type": "code",
   "execution_count": 2,
   "id": "21656c12",
   "metadata": {},
   "outputs": [],
   "source": [
    "import pandas as pd\n",
    "import numpy as np\n",
    "import scipy.stats as st\n",
    "\n",
    "import seaborn as sns\n",
    "import matplotlib.pyplot as plt\n",
    "\n",
    "import warnings\n",
    "warnings.filterwarnings(\"ignore\")\n",
    "\n"
   ]
  },
  {
   "cell_type": "markdown",
   "id": "a8c329e5",
   "metadata": {},
   "source": [
    "## Изучим данные"
   ]
  },
  {
   "cell_type": "markdown",
   "id": "cd10fe61",
   "metadata": {},
   "source": [
    "Изучим данные. Прочитаем их из csv файла в переменную `data`"
   ]
  },
  {
   "cell_type": "code",
   "execution_count": 3,
   "id": "8e314c00",
   "metadata": {},
   "outputs": [],
   "source": [
    "data = pd.read_csv('data_csv.csv',encoding='utf-8',sep=';')"
   ]
  },
  {
   "cell_type": "code",
   "execution_count": 4,
   "id": "2e483afb",
   "metadata": {},
   "outputs": [
    {
     "data": {
      "text/html": [
       "<div>\n",
       "<style scoped>\n",
       "    .dataframe tbody tr th:only-of-type {\n",
       "        vertical-align: middle;\n",
       "    }\n",
       "\n",
       "    .dataframe tbody tr th {\n",
       "        vertical-align: top;\n",
       "    }\n",
       "\n",
       "    .dataframe thead th {\n",
       "        text-align: right;\n",
       "    }\n",
       "</style>\n",
       "<table border=\"1\" class=\"dataframe\">\n",
       "  <thead>\n",
       "    <tr style=\"text-align: right;\">\n",
       "      <th></th>\n",
       "      <th>Количество больничных дней</th>\n",
       "      <th>Возраст</th>\n",
       "      <th>Пол</th>\n",
       "    </tr>\n",
       "  </thead>\n",
       "  <tbody>\n",
       "    <tr>\n",
       "      <th>0</th>\n",
       "      <td>5</td>\n",
       "      <td>39</td>\n",
       "      <td>Ж</td>\n",
       "    </tr>\n",
       "    <tr>\n",
       "      <th>1</th>\n",
       "      <td>4</td>\n",
       "      <td>54</td>\n",
       "      <td>М</td>\n",
       "    </tr>\n",
       "    <tr>\n",
       "      <th>2</th>\n",
       "      <td>4</td>\n",
       "      <td>26</td>\n",
       "      <td>М</td>\n",
       "    </tr>\n",
       "    <tr>\n",
       "      <th>3</th>\n",
       "      <td>5</td>\n",
       "      <td>42</td>\n",
       "      <td>М</td>\n",
       "    </tr>\n",
       "    <tr>\n",
       "      <th>4</th>\n",
       "      <td>4</td>\n",
       "      <td>29</td>\n",
       "      <td>М</td>\n",
       "    </tr>\n",
       "  </tbody>\n",
       "</table>\n",
       "</div>"
      ],
      "text/plain": [
       "   Количество больничных дней  Возраст Пол\n",
       "0                           5       39   Ж\n",
       "1                           4       54   М\n",
       "2                           4       26   М\n",
       "3                           5       42   М\n",
       "4                           4       29   М"
      ]
     },
     "execution_count": 4,
     "metadata": {},
     "output_type": "execute_result"
    }
   ],
   "source": [
    "data.head()"
   ]
  },
  {
   "cell_type": "code",
   "execution_count": 5,
   "id": "697b2b1b",
   "metadata": {},
   "outputs": [
    {
     "name": "stdout",
     "output_type": "stream",
     "text": [
      "<class 'pandas.core.frame.DataFrame'>\n",
      "RangeIndex: 237 entries, 0 to 236\n",
      "Data columns (total 3 columns):\n",
      " #   Column                      Non-Null Count  Dtype \n",
      "---  ------                      --------------  ----- \n",
      " 0   Количество больничных дней  237 non-null    int64 \n",
      " 1   Возраст                     237 non-null    int64 \n",
      " 2   Пол                         237 non-null    object\n",
      "dtypes: int64(2), object(1)\n",
      "memory usage: 5.7+ KB\n"
     ]
    }
   ],
   "source": [
    "data.info()"
   ]
  },
  {
   "cell_type": "code",
   "execution_count": 24,
   "id": "bbfaa137",
   "metadata": {},
   "outputs": [
    {
     "data": {
      "text/html": [
       "<div>\n",
       "<style scoped>\n",
       "    .dataframe tbody tr th:only-of-type {\n",
       "        vertical-align: middle;\n",
       "    }\n",
       "\n",
       "    .dataframe tbody tr th {\n",
       "        vertical-align: top;\n",
       "    }\n",
       "\n",
       "    .dataframe thead th {\n",
       "        text-align: right;\n",
       "    }\n",
       "</style>\n",
       "<table border=\"1\" class=\"dataframe\">\n",
       "  <thead>\n",
       "    <tr style=\"text-align: right;\">\n",
       "      <th></th>\n",
       "      <th>Количество больничных дней</th>\n",
       "      <th>Возраст</th>\n",
       "    </tr>\n",
       "  </thead>\n",
       "  <tbody>\n",
       "    <tr>\n",
       "      <th>count</th>\n",
       "      <td>237.000000</td>\n",
       "      <td>237.000000</td>\n",
       "    </tr>\n",
       "    <tr>\n",
       "      <th>mean</th>\n",
       "      <td>3.257384</td>\n",
       "      <td>40.181435</td>\n",
       "    </tr>\n",
       "    <tr>\n",
       "      <th>std</th>\n",
       "      <td>1.807821</td>\n",
       "      <td>6.875157</td>\n",
       "    </tr>\n",
       "    <tr>\n",
       "      <th>min</th>\n",
       "      <td>0.000000</td>\n",
       "      <td>23.000000</td>\n",
       "    </tr>\n",
       "    <tr>\n",
       "      <th>25%</th>\n",
       "      <td>2.000000</td>\n",
       "      <td>36.000000</td>\n",
       "    </tr>\n",
       "    <tr>\n",
       "      <th>50%</th>\n",
       "      <td>3.000000</td>\n",
       "      <td>41.000000</td>\n",
       "    </tr>\n",
       "    <tr>\n",
       "      <th>75%</th>\n",
       "      <td>4.000000</td>\n",
       "      <td>45.000000</td>\n",
       "    </tr>\n",
       "    <tr>\n",
       "      <th>max</th>\n",
       "      <td>8.000000</td>\n",
       "      <td>60.000000</td>\n",
       "    </tr>\n",
       "  </tbody>\n",
       "</table>\n",
       "</div>"
      ],
      "text/plain": [
       "       Количество больничных дней     Возраст\n",
       "count                  237.000000  237.000000\n",
       "mean                     3.257384   40.181435\n",
       "std                      1.807821    6.875157\n",
       "min                      0.000000   23.000000\n",
       "25%                      2.000000   36.000000\n",
       "50%                      3.000000   41.000000\n",
       "75%                      4.000000   45.000000\n",
       "max                      8.000000   60.000000"
      ]
     },
     "execution_count": 24,
     "metadata": {},
     "output_type": "execute_result"
    }
   ],
   "source": [
    "data.describe()"
   ]
  },
  {
   "cell_type": "markdown",
   "id": "885baf00",
   "metadata": {},
   "source": [
    "Пропусков нет. Каждый признак имеет тот тип данных, который и должен быть у этого признака:\n",
    "\n",
    "Количество дней - целое число\n",
    "\n",
    "Возраст - целое число\n",
    "\n",
    "Пол - объект"
   ]
  },
  {
   "cell_type": "markdown",
   "id": "e99b9e60",
   "metadata": {},
   "source": [
    "## Посмотрим на графики распределений данных"
   ]
  },
  {
   "cell_type": "code",
   "execution_count": 21,
   "id": "835a79a7",
   "metadata": {
    "scrolled": false
   },
   "outputs": [
    {
     "data": {
      "image/png": "[encoded data removed]",
      "text/plain": [
       "<Figure size 640x480 with 1 Axes>"
      ]
     },
     "metadata": {},
     "output_type": "display_data"
    }
   ],
   "source": [
    "sns.kdeplot(data,x='Количество больничных дней',);\n",
    "plt.grid(True);\n",
    "plt.title('Распределение количества больничных дней');\n",
    "plt.ylabel('Частота значения');"
   ]
  },
  {
   "cell_type": "markdown",
   "id": "b6f3310c",
   "metadata": {},
   "source": [
    "Как мы видим, график небольшое сходство с нормальным распределением. Среднее значение равно 3, Максмимальное равно 8, минимальное равно 9"
   ]
  },
  {
   "cell_type": "code",
   "execution_count": 22,
   "id": "3127e2ec",
   "metadata": {
    "scrolled": false
   },
   "outputs": [
    {
     "data": {
      "image/png": "[encoded data removed]",
      "text/plain": [
       "<Figure size 640x480 with 1 Axes>"
      ]
     },
     "metadata": {},
     "output_type": "display_data"
    }
   ],
   "source": [
    "sns.kdeplot(data,x='Возраст');\n",
    "plt.grid(True);\n",
    "plt.title('Распределение Возраста');\n",
    "plt.ylabel('Частота значения');"
   ]
  },
  {
   "cell_type": "markdown",
   "id": "e91c0b9e",
   "metadata": {},
   "source": [
    "На данном графике мы видим, что распределение похоже на нормальное распределение, среднее равно примерно 40 лет. минимальное около 23, максимальное около 60."
   ]
  },
  {
   "cell_type": "markdown",
   "id": "467c85b9",
   "metadata": {},
   "source": [
    "## Приступим к исследованию гипотез"
   ]
  },
  {
   "cell_type": "markdown",
   "id": "e201026c",
   "metadata": {},
   "source": [
    "### Гипотеза №1"
   ]
  },
  {
   "cell_type": "markdown",
   "id": "ebd26030",
   "metadata": {},
   "source": [
    "Гипотеза:\n",
    "\n",
    "Мужчины пропускают в течение года более 2 рабочих дней (work_days) по\n",
    "болезни значимо чаще женщин.\n",
    "\n",
    "\n"
   ]
  },
  {
   "cell_type": "markdown",
   "id": "1968fa45",
   "metadata": {},
   "source": [
    "<!-- Сначала план был проверить гипотезу с помощью двойного ttest'а, но на самом деле лучше посчитать количесво -->"
   ]
  },
  {
   "cell_type": "markdown",
   "id": "5a5eec0a",
   "metadata": {},
   "source": [
    "Критерий независимости хи-квадрат Пирсона. Проверим наличие ссвязи между болезненностью сотрудника и его полом"
   ]
  },
  {
   "cell_type": "markdown",
   "id": "d4dff213",
   "metadata": {},
   "source": [
    "Установим уровень статистической значимости а=0.05"
   ]
  },
  {
   "cell_type": "code",
   "execution_count": 32,
   "id": "c035c5c5",
   "metadata": {},
   "outputs": [],
   "source": [
    "data_c = data.copy(deep=True)"
   ]
  },
  {
   "cell_type": "code",
   "execution_count": 33,
   "id": "f8fa9680",
   "metadata": {},
   "outputs": [],
   "source": [
    "data_c['target'] = (data_c['Количество больничных дней']>2)"
   ]
  },
  {
   "cell_type": "code",
   "execution_count": 36,
   "id": "79ab93b6",
   "metadata": {},
   "outputs": [],
   "source": [
    "data_c['target'] = data_c['target'].astype(int)"
   ]
  },
  {
   "cell_type": "code",
   "execution_count": 38,
   "id": "c7449110",
   "metadata": {},
   "outputs": [],
   "source": [
    "data_c['Пол'] = data_c['Пол'].replace('М',1).replace('Ж',0)"
   ]
  },
  {
   "cell_type": "code",
   "execution_count": 39,
   "id": "4085d9dd",
   "metadata": {
    "collapsed": true
   },
   "outputs": [
    {
     "data": {
      "text/html": [
       "<div>\n",
       "<style scoped>\n",
       "    .dataframe tbody tr th:only-of-type {\n",
       "        vertical-align: middle;\n",
       "    }\n",
       "\n",
       "    .dataframe tbody tr th {\n",
       "        vertical-align: top;\n",
       "    }\n",
       "\n",
       "    .dataframe thead th {\n",
       "        text-align: right;\n",
       "    }\n",
       "</style>\n",
       "<table border=\"1\" class=\"dataframe\">\n",
       "  <thead>\n",
       "    <tr style=\"text-align: right;\">\n",
       "      <th></th>\n",
       "      <th>Количество больничных дней</th>\n",
       "      <th>Возраст</th>\n",
       "      <th>Пол</th>\n",
       "      <th>target</th>\n",
       "    </tr>\n",
       "  </thead>\n",
       "  <tbody>\n",
       "    <tr>\n",
       "      <th>0</th>\n",
       "      <td>5</td>\n",
       "      <td>39</td>\n",
       "      <td>0</td>\n",
       "      <td>1</td>\n",
       "    </tr>\n",
       "    <tr>\n",
       "      <th>1</th>\n",
       "      <td>4</td>\n",
       "      <td>54</td>\n",
       "      <td>1</td>\n",
       "      <td>1</td>\n",
       "    </tr>\n",
       "    <tr>\n",
       "      <th>2</th>\n",
       "      <td>4</td>\n",
       "      <td>26</td>\n",
       "      <td>1</td>\n",
       "      <td>1</td>\n",
       "    </tr>\n",
       "    <tr>\n",
       "      <th>3</th>\n",
       "      <td>5</td>\n",
       "      <td>42</td>\n",
       "      <td>1</td>\n",
       "      <td>1</td>\n",
       "    </tr>\n",
       "    <tr>\n",
       "      <th>4</th>\n",
       "      <td>4</td>\n",
       "      <td>29</td>\n",
       "      <td>1</td>\n",
       "      <td>1</td>\n",
       "    </tr>\n",
       "    <tr>\n",
       "      <th>...</th>\n",
       "      <td>...</td>\n",
       "      <td>...</td>\n",
       "      <td>...</td>\n",
       "      <td>...</td>\n",
       "    </tr>\n",
       "    <tr>\n",
       "      <th>232</th>\n",
       "      <td>5</td>\n",
       "      <td>30</td>\n",
       "      <td>1</td>\n",
       "      <td>1</td>\n",
       "    </tr>\n",
       "    <tr>\n",
       "      <th>233</th>\n",
       "      <td>4</td>\n",
       "      <td>36</td>\n",
       "      <td>0</td>\n",
       "      <td>1</td>\n",
       "    </tr>\n",
       "    <tr>\n",
       "      <th>234</th>\n",
       "      <td>2</td>\n",
       "      <td>60</td>\n",
       "      <td>0</td>\n",
       "      <td>0</td>\n",
       "    </tr>\n",
       "    <tr>\n",
       "      <th>235</th>\n",
       "      <td>2</td>\n",
       "      <td>44</td>\n",
       "      <td>0</td>\n",
       "      <td>0</td>\n",
       "    </tr>\n",
       "    <tr>\n",
       "      <th>236</th>\n",
       "      <td>3</td>\n",
       "      <td>37</td>\n",
       "      <td>1</td>\n",
       "      <td>1</td>\n",
       "    </tr>\n",
       "  </tbody>\n",
       "</table>\n",
       "<p>237 rows × 4 columns</p>\n",
       "</div>"
      ],
      "text/plain": [
       "     Количество больничных дней  Возраст  Пол  target\n",
       "0                             5       39    0       1\n",
       "1                             4       54    1       1\n",
       "2                             4       26    1       1\n",
       "3                             5       42    1       1\n",
       "4                             4       29    1       1\n",
       "..                          ...      ...  ...     ...\n",
       "232                           5       30    1       1\n",
       "233                           4       36    0       1\n",
       "234                           2       60    0       0\n",
       "235                           2       44    0       0\n",
       "236                           3       37    1       1\n",
       "\n",
       "[237 rows x 4 columns]"
      ]
     },
     "execution_count": 39,
     "metadata": {},
     "output_type": "execute_result"
    }
   ],
   "source": [
    "data_c"
   ]
  },
  {
   "cell_type": "markdown",
   "id": "12e323b6",
   "metadata": {},
   "source": [
    "Построим таблицу сопряженности"
   ]
  },
  {
   "cell_type": "code",
   "execution_count": 40,
   "id": "036eafd2",
   "metadata": {},
   "outputs": [],
   "source": [
    "t = data_c.groupby('Пол')['target'].value_counts().unstack()"
   ]
  },
  {
   "cell_type": "code",
   "execution_count": 51,
   "id": "eca64617",
   "metadata": {},
   "outputs": [
    {
     "data": {
      "text/html": [
       "<div>\n",
       "<style scoped>\n",
       "    .dataframe tbody tr th:only-of-type {\n",
       "        vertical-align: middle;\n",
       "    }\n",
       "\n",
       "    .dataframe tbody tr th {\n",
       "        vertical-align: top;\n",
       "    }\n",
       "\n",
       "    .dataframe thead th {\n",
       "        text-align: right;\n",
       "    }\n",
       "</style>\n",
       "<table border=\"1\" class=\"dataframe\">\n",
       "  <thead>\n",
       "    <tr style=\"text-align: right;\">\n",
       "      <th>target</th>\n",
       "      <th>0</th>\n",
       "      <th>1</th>\n",
       "    </tr>\n",
       "    <tr>\n",
       "      <th>Пол</th>\n",
       "      <th></th>\n",
       "      <th></th>\n",
       "    </tr>\n",
       "  </thead>\n",
       "  <tbody>\n",
       "    <tr>\n",
       "      <th>0</th>\n",
       "      <td>31</td>\n",
       "      <td>67</td>\n",
       "    </tr>\n",
       "    <tr>\n",
       "      <th>1</th>\n",
       "      <td>55</td>\n",
       "      <td>84</td>\n",
       "    </tr>\n",
       "  </tbody>\n",
       "</table>\n",
       "</div>"
      ],
      "text/plain": [
       "target   0   1\n",
       "Пол           \n",
       "0       31  67\n",
       "1       55  84"
      ]
     },
     "execution_count": 51,
     "metadata": {},
     "output_type": "execute_result"
    }
   ],
   "source": [
    "t"
   ]
  },
  {
   "cell_type": "markdown",
   "id": "6aa0805f",
   "metadata": {},
   "source": [
    "Теперь рассчитаем суммарное количество \"здоровых\"(пропускают не более 2 дней) и болеющих(пропускают более 2 дней)"
   ]
  },
  {
   "cell_type": "code",
   "execution_count": 72,
   "id": "06121d95",
   "metadata": {},
   "outputs": [
    {
     "data": {
      "text/plain": [
       "Пол\n",
       "0    31\n",
       "1    55\n",
       "Name: 0, dtype: int64"
      ]
     },
     "execution_count": 72,
     "metadata": {},
     "output_type": "execute_result"
    }
   ],
   "source": [
    "t[0]"
   ]
  },
  {
   "cell_type": "code",
   "execution_count": null,
   "id": "67e96542",
   "metadata": {},
   "outputs": [],
   "source": [
    "n_0 = t[0].sum()\n",
    "n_1 = t[1].sum()\n",
    "n_sum = n_0+n_1"
   ]
  },
  {
   "cell_type": "markdown",
   "id": "30d512de",
   "metadata": {},
   "source": [
    "Рассчитаем доли"
   ]
  },
  {
   "cell_type": "code",
   "execution_count": 48,
   "id": "6995bb4b",
   "metadata": {},
   "outputs": [],
   "source": [
    "p_0 = n_0 / n_sum\n",
    "p_1 = n_1 / n_sum"
   ]
  },
  {
   "cell_type": "markdown",
   "id": "6e9ab924",
   "metadata": {},
   "source": [
    "Посчитаем количество мужчин и женщин"
   ]
  },
  {
   "cell_type": "code",
   "execution_count": 49,
   "id": "c21a5e1f",
   "metadata": {},
   "outputs": [],
   "source": [
    "n_w = t.iloc[0].sum()\n",
    "n_m = t.iloc[1].sum()\n"
   ]
  },
  {
   "cell_type": "markdown",
   "id": "cef60f98",
   "metadata": {},
   "source": [
    "Посчитаем ожидаемы частоты мужчин и женщин по классам"
   ]
  },
  {
   "cell_type": "code",
   "execution_count": 52,
   "id": "cb56d283",
   "metadata": {},
   "outputs": [],
   "source": [
    "w_0 = n_w*p_0 \n",
    "w_1 = n_w*p_1 \n",
    "m_0 = n_m*p_0 \n",
    "m_1 = n_m*p_1 "
   ]
  },
  {
   "cell_type": "code",
   "execution_count": 55,
   "id": "9b108b88",
   "metadata": {},
   "outputs": [
    {
     "name": "stdout",
     "output_type": "stream",
     "text": [
      "w_0 35.561181434599156\n",
      "w_1 62.438818565400844\n",
      "m_0 50.438818565400844\n",
      "m_1 88.56118143459915\n"
     ]
    }
   ],
   "source": [
    "print('w_0',w_0)\n",
    "print('w_1',w_1)\n",
    "print('m_0',m_0)\n",
    "print('m_1',m_1)"
   ]
  },
  {
   "cell_type": "code",
   "execution_count": 53,
   "id": "65b7cdc3",
   "metadata": {},
   "outputs": [
    {
     "data": {
      "text/plain": [
       "Chi2ContingencyResult(statistic=1.5656095414907927, pvalue=0.21084576203875743, dof=1, expected_freq=array([[35.56118143, 62.43881857],\n",
       "       [50.43881857, 88.56118143]]))"
      ]
     },
     "execution_count": 53,
     "metadata": {},
     "output_type": "execute_result"
    }
   ],
   "source": [
    "st.chi2_contingency(t, correction=False)"
   ]
  },
  {
   "cell_type": "code",
   "execution_count": 70,
   "id": "4464d603",
   "metadata": {},
   "outputs": [
    {
     "name": "stdout",
     "output_type": "stream",
     "text": [
      "pvalue равно 0.21084576203875743\n"
     ]
    }
   ],
   "source": [
    "print('pvalue равно',st.chi2_contingency(t, correction=False).pvalue)"
   ]
  },
  {
   "cell_type": "markdown",
   "id": "1c5a66d9",
   "metadata": {},
   "source": [
    "pvalue равно 0.211, значит, что при нашем уровне статистической значимости 0.05, гипотеза не отвергается, то есть мы не можем утверждать, что количество пропусков зависит от пола."
   ]
  },
  {
   "cell_type": "markdown",
   "id": "d2d4e241",
   "metadata": {},
   "source": [
    "### Гипотеза №2"
   ]
  },
  {
   "cell_type": "markdown",
   "id": "c9d01d02",
   "metadata": {},
   "source": [
    "Проделаем похожие действия, теперь проверим, зависит ли болезненность сотрудников от возраста."
   ]
  },
  {
   "cell_type": "markdown",
   "id": "09acaa18",
   "metadata": {},
   "source": [
    "Нулевая гипотеза:\n",
    "\n",
    "Работники старше 35 лет (age) пропускают в течение года более 2 рабочих\n",
    "дней (work_days) по болезни значимо чаще своих более молодых коллег."
   ]
  },
  {
   "cell_type": "markdown",
   "id": "c6a451cd",
   "metadata": {},
   "source": [
    "Установим уровень статистической значимости а=0.05"
   ]
  },
  {
   "cell_type": "code",
   "execution_count": 59,
   "id": "8ca81253",
   "metadata": {},
   "outputs": [],
   "source": [
    "data_c_2 = data.copy(deep=True)"
   ]
  },
  {
   "cell_type": "code",
   "execution_count": 60,
   "id": "119e48de",
   "metadata": {},
   "outputs": [],
   "source": [
    "data_c_2['target'] = (data_c_2['Количество больничных дней']>2)"
   ]
  },
  {
   "cell_type": "code",
   "execution_count": 61,
   "id": "96168b9c",
   "metadata": {},
   "outputs": [],
   "source": [
    "data_c_2['target'] = data_c_2['target'].astype(int)"
   ]
  },
  {
   "cell_type": "code",
   "execution_count": 62,
   "id": "84178f75",
   "metadata": {},
   "outputs": [],
   "source": [
    "data_c_2['Возраст'] = data_c_2['Возраст'].where(data_c_2['Возраст'] > 35, 1).where(data_c_2['Возраст'] <= 35, 0)"
   ]
  },
  {
   "cell_type": "markdown",
   "id": "e7ac7db7",
   "metadata": {},
   "source": [
    "1 - Старше 35\n",
    "\n",
    "0 - младше 35"
   ]
  },
  {
   "cell_type": "code",
   "execution_count": 63,
   "id": "5082d369",
   "metadata": {},
   "outputs": [
    {
     "data": {
      "text/html": [
       "<div>\n",
       "<style scoped>\n",
       "    .dataframe tbody tr th:only-of-type {\n",
       "        vertical-align: middle;\n",
       "    }\n",
       "\n",
       "    .dataframe tbody tr th {\n",
       "        vertical-align: top;\n",
       "    }\n",
       "\n",
       "    .dataframe thead th {\n",
       "        text-align: right;\n",
       "    }\n",
       "</style>\n",
       "<table border=\"1\" class=\"dataframe\">\n",
       "  <thead>\n",
       "    <tr style=\"text-align: right;\">\n",
       "      <th></th>\n",
       "      <th>Количество больничных дней</th>\n",
       "      <th>Возраст</th>\n",
       "      <th>Пол</th>\n",
       "      <th>target</th>\n",
       "    </tr>\n",
       "  </thead>\n",
       "  <tbody>\n",
       "    <tr>\n",
       "      <th>0</th>\n",
       "      <td>5</td>\n",
       "      <td>0</td>\n",
       "      <td>Ж</td>\n",
       "      <td>1</td>\n",
       "    </tr>\n",
       "    <tr>\n",
       "      <th>1</th>\n",
       "      <td>4</td>\n",
       "      <td>0</td>\n",
       "      <td>М</td>\n",
       "      <td>1</td>\n",
       "    </tr>\n",
       "    <tr>\n",
       "      <th>2</th>\n",
       "      <td>4</td>\n",
       "      <td>1</td>\n",
       "      <td>М</td>\n",
       "      <td>1</td>\n",
       "    </tr>\n",
       "    <tr>\n",
       "      <th>3</th>\n",
       "      <td>5</td>\n",
       "      <td>0</td>\n",
       "      <td>М</td>\n",
       "      <td>1</td>\n",
       "    </tr>\n",
       "    <tr>\n",
       "      <th>4</th>\n",
       "      <td>4</td>\n",
       "      <td>1</td>\n",
       "      <td>М</td>\n",
       "      <td>1</td>\n",
       "    </tr>\n",
       "    <tr>\n",
       "      <th>...</th>\n",
       "      <td>...</td>\n",
       "      <td>...</td>\n",
       "      <td>...</td>\n",
       "      <td>...</td>\n",
       "    </tr>\n",
       "    <tr>\n",
       "      <th>232</th>\n",
       "      <td>5</td>\n",
       "      <td>1</td>\n",
       "      <td>М</td>\n",
       "      <td>1</td>\n",
       "    </tr>\n",
       "    <tr>\n",
       "      <th>233</th>\n",
       "      <td>4</td>\n",
       "      <td>0</td>\n",
       "      <td>Ж</td>\n",
       "      <td>1</td>\n",
       "    </tr>\n",
       "    <tr>\n",
       "      <th>234</th>\n",
       "      <td>2</td>\n",
       "      <td>0</td>\n",
       "      <td>Ж</td>\n",
       "      <td>0</td>\n",
       "    </tr>\n",
       "    <tr>\n",
       "      <th>235</th>\n",
       "      <td>2</td>\n",
       "      <td>0</td>\n",
       "      <td>Ж</td>\n",
       "      <td>0</td>\n",
       "    </tr>\n",
       "    <tr>\n",
       "      <th>236</th>\n",
       "      <td>3</td>\n",
       "      <td>0</td>\n",
       "      <td>М</td>\n",
       "      <td>1</td>\n",
       "    </tr>\n",
       "  </tbody>\n",
       "</table>\n",
       "<p>237 rows × 4 columns</p>\n",
       "</div>"
      ],
      "text/plain": [
       "     Количество больничных дней  Возраст Пол  target\n",
       "0                             5        0   Ж       1\n",
       "1                             4        0   М       1\n",
       "2                             4        1   М       1\n",
       "3                             5        0   М       1\n",
       "4                             4        1   М       1\n",
       "..                          ...      ...  ..     ...\n",
       "232                           5        1   М       1\n",
       "233                           4        0   Ж       1\n",
       "234                           2        0   Ж       0\n",
       "235                           2        0   Ж       0\n",
       "236                           3        0   М       1\n",
       "\n",
       "[237 rows x 4 columns]"
      ]
     },
     "execution_count": 63,
     "metadata": {},
     "output_type": "execute_result"
    }
   ],
   "source": [
    "data_c_2"
   ]
  },
  {
   "cell_type": "markdown",
   "id": "77d2c167",
   "metadata": {},
   "source": [
    "Построим таблицу сопряженности"
   ]
  },
  {
   "cell_type": "code",
   "execution_count": 66,
   "id": "54d2a698",
   "metadata": {},
   "outputs": [],
   "source": [
    "t_2 = data_c_2.groupby('Возраст')['target'].value_counts().unstack()"
   ]
  },
  {
   "cell_type": "code",
   "execution_count": 67,
   "id": "acc5704e",
   "metadata": {},
   "outputs": [
    {
     "data": {
      "text/html": [
       "<div>\n",
       "<style scoped>\n",
       "    .dataframe tbody tr th:only-of-type {\n",
       "        vertical-align: middle;\n",
       "    }\n",
       "\n",
       "    .dataframe tbody tr th {\n",
       "        vertical-align: top;\n",
       "    }\n",
       "\n",
       "    .dataframe thead th {\n",
       "        text-align: right;\n",
       "    }\n",
       "</style>\n",
       "<table border=\"1\" class=\"dataframe\">\n",
       "  <thead>\n",
       "    <tr style=\"text-align: right;\">\n",
       "      <th>target</th>\n",
       "      <th>0</th>\n",
       "      <th>1</th>\n",
       "    </tr>\n",
       "    <tr>\n",
       "      <th>Возраст</th>\n",
       "      <th></th>\n",
       "      <th></th>\n",
       "    </tr>\n",
       "  </thead>\n",
       "  <tbody>\n",
       "    <tr>\n",
       "      <th>0</th>\n",
       "      <td>65</td>\n",
       "      <td>115</td>\n",
       "    </tr>\n",
       "    <tr>\n",
       "      <th>1</th>\n",
       "      <td>21</td>\n",
       "      <td>36</td>\n",
       "    </tr>\n",
       "  </tbody>\n",
       "</table>\n",
       "</div>"
      ],
      "text/plain": [
       "target    0    1\n",
       "Возраст         \n",
       "0        65  115\n",
       "1        21   36"
      ]
     },
     "execution_count": 67,
     "metadata": {},
     "output_type": "execute_result"
    }
   ],
   "source": [
    "t_2"
   ]
  },
  {
   "cell_type": "code",
   "execution_count": 68,
   "id": "856af32b",
   "metadata": {},
   "outputs": [
    {
     "data": {
      "text/plain": [
       "Chi2ContingencyResult(statistic=0.010005714656269607, pvalue=0.9203216442446261, dof=1, expected_freq=array([[ 65.3164557, 114.6835443],\n",
       "       [ 20.6835443,  36.3164557]]))"
      ]
     },
     "execution_count": 68,
     "metadata": {},
     "output_type": "execute_result"
    }
   ],
   "source": [
    "st.chi2_contingency(t_2, correction=False)"
   ]
  },
  {
   "cell_type": "code",
   "execution_count": 71,
   "id": "70cbf88d",
   "metadata": {
    "scrolled": true
   },
   "outputs": [
    {
     "name": "stdout",
     "output_type": "stream",
     "text": [
      "pvalue равно 0.9203216442446261\n"
     ]
    }
   ],
   "source": [
    "print('pvalue равно',st.chi2_contingency(t_2, correction=False).pvalue)"
   ]
  },
  {
   "cell_type": "markdown",
   "id": "747fe8c2",
   "metadata": {},
   "source": [
    "pvalue равно 0.920, значит, что при нашем уровне статистической значимости 0.05, гипотеза не отвергается, то есть мы **не** можем утверждать, что количество пропусков зависит от возраста."
   ]
  },
  {
   "cell_type": "markdown",
   "id": "17a81ce0",
   "metadata": {},
   "source": [
    "## Подведем итоги"
   ]
  },
  {
   "cell_type": "markdown",
   "id": "c6f1c234",
   "metadata": {},
   "source": [
    "Произвели импорт всех данных, изучили данных.\n",
    "\n",
    "Далее произвели исследование двух гипотез, результат обеих гипотез показал, что мы не можем отвергнуть нулевые гипотезы, что значит, что нам нужно точнее подойти к вопросу исследования, чтобы получить ответы на наши вопросы."
   ]
  },
  {
   "cell_type": "code",
   "execution_count": null,
   "id": "331b97f0",
   "metadata": {},
   "outputs": [],
   "source": []
  }
 ],
 "metadata": {
  "kernelspec": {
   "display_name": "Python 3 (ipykernel)",
   "language": "python",
   "name": "python3"
  },
  "language_info": {
   "codemirror_mode": {
    "name": "ipython",
    "version": 3
   },
   "file_extension": ".py",
   "mimetype": "text/x-python",
   "name": "python",
   "nbconvert_exporter": "python",
   "pygments_lexer": "ipython3",
   "version": "3.10.8"
  },
  "toc": {
   "base_numbering": 1,
   "nav_menu": {},
   "number_sections": true,
   "sideBar": true,
   "skip_h1_title": true,
   "title_cell": "Table of Contents",
   "title_sidebar": "Contents",
   "toc_cell": true,
   "toc_position": {
    "height": "calc(100% - 180px)",
    "left": "10px",
    "top": "150px",
    "width": "248.4px"
   },
   "toc_section_display": true,
   "toc_window_display": true
  }
 },
 "nbformat": 4,
 "nbformat_minor": 5
}
